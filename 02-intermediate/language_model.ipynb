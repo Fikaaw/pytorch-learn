{
 "cells": [
  {
   "cell_type": "code",
   "execution_count": 2,
   "metadata": {},
   "outputs": [],
   "source": [
    "import torch\n",
    "import torch.nn as nn\n",
    "import numpy as np\n",
    "from torch.nn.utils import clip_grad_norm_\n",
    "from data_utils import Dictionary, Corpus"
   ]
  },
  {
   "cell_type": "code",
   "execution_count": 3,
   "metadata": {},
   "outputs": [],
   "source": [
    "# Device configuration\n",
    "device = torch.device('cuda' if torch.cuda.is_available() else 'cpu')"
   ]
  },
  {
   "cell_type": "code",
   "execution_count": 4,
   "metadata": {},
   "outputs": [],
   "source": [
    "# Hyper-parameters\n",
    "embed_size = 128\n",
    "hidden_size = 1024\n",
    "num_layers = 1\n",
    "num_epochs = 5\n",
    "num_samples = 1000     # number of words to be sampled\n",
    "batch_size = 20\n",
    "seq_length = 30\n",
    "learning_rate = 0.002"
   ]
  },
  {
   "cell_type": "code",
   "execution_count": 6,
   "metadata": {},
   "outputs": [],
   "source": [
    "# Load \"Penn Treebank\" dataset\n",
    "corpus = Corpus()\n",
    "ids = corpus.get_data('data/train.txt', batch_size)\n",
    "vocab_size = len(corpus.dictionary)\n",
    "num_batches = ids.size(1) // seq_length"
   ]
  },
  {
   "cell_type": "code",
   "execution_count": 7,
   "metadata": {},
   "outputs": [],
   "source": [
    "# RNN based language model\n",
    "class RNNLM(nn.Module):\n",
    "    def __init__(self, vocab_size, embed_size, hidden_size, num_layers):\n",
    "        super(RNNLM, self).__init__()\n",
    "        self.embed = nn.Embedding(vocab_size, embed_size)\n",
    "        self.lstm = nn.LSTM(embed_size, hidden_size, num_layers, batch_first=True)\n",
    "        self.linear = nn.Linear(hidden_size, vocab_size)\n",
    "        \n",
    "    def forward(self, x, h):\n",
    "        # Embed word ids to vectors\n",
    "        x = self.embed(x)\n",
    "        \n",
    "        # Forward propagate LSTM\n",
    "        out, (h, c) = self.lstm(x, h)\n",
    "        \n",
    "        # Reshape output to (batch_size*sequence_length, hidden_size)\n",
    "        out = out.reshape(out.size(0)*out.size(1), out.size(2))\n",
    "        \n",
    "        # Decode hidden states of all time steps\n",
    "        out = self.linear(out)\n",
    "        return out, (h, c)\n",
    "\n",
    "model = RNNLM(vocab_size, embed_size, hidden_size, num_layers).to(device)"
   ]
  },
  {
   "cell_type": "code",
   "execution_count": 8,
   "metadata": {},
   "outputs": [],
   "source": [
    "# Loss and optimizer\n",
    "criterion = nn.CrossEntropyLoss()\n",
    "optimizer = torch.optim.Adam(model.parameters(), lr=learning_rate)"
   ]
  },
  {
   "cell_type": "code",
   "execution_count": 9,
   "metadata": {},
   "outputs": [],
   "source": [
    "# Truncated backpropagation\n",
    "def detach(states):\n",
    "    return [state.detach() for state in states] "
   ]
  },
  {
   "cell_type": "code",
   "execution_count": 10,
   "metadata": {},
   "outputs": [
    {
     "name": "stdout",
     "output_type": "stream",
     "text": [
      "Epoch [1/5], Step[0/1549], Loss: 9.2092, Perplexity: 9988.86\n",
      "Epoch [1/5], Step[100/1549], Loss: 6.0065, Perplexity: 406.05\n",
      "Epoch [1/5], Step[200/1549], Loss: 5.9302, Perplexity: 376.23\n",
      "Epoch [1/5], Step[300/1549], Loss: 5.7633, Perplexity: 318.40\n",
      "Epoch [1/5], Step[400/1549], Loss: 5.6984, Perplexity: 298.40\n",
      "Epoch [1/5], Step[500/1549], Loss: 5.1593, Perplexity: 174.04\n",
      "Epoch [1/5], Step[600/1549], Loss: 5.2149, Perplexity: 183.99\n",
      "Epoch [1/5], Step[700/1549], Loss: 5.3444, Perplexity: 209.43\n",
      "Epoch [1/5], Step[800/1549], Loss: 5.2148, Perplexity: 183.98\n",
      "Epoch [1/5], Step[900/1549], Loss: 5.0587, Perplexity: 157.38\n",
      "Epoch [1/5], Step[1000/1549], Loss: 5.0994, Perplexity: 163.92\n",
      "Epoch [1/5], Step[1100/1549], Loss: 5.3530, Perplexity: 211.23\n",
      "Epoch [1/5], Step[1200/1549], Loss: 5.1785, Perplexity: 177.41\n",
      "Epoch [1/5], Step[1300/1549], Loss: 5.1222, Perplexity: 167.70\n",
      "Epoch [1/5], Step[1400/1549], Loss: 4.8739, Perplexity: 130.84\n",
      "Epoch [1/5], Step[1500/1549], Loss: 5.1286, Perplexity: 168.78\n",
      "Epoch [2/5], Step[0/1549], Loss: 5.4213, Perplexity: 226.17\n",
      "Epoch [2/5], Step[100/1549], Loss: 4.5436, Perplexity: 94.03\n",
      "Epoch [2/5], Step[200/1549], Loss: 4.6818, Perplexity: 107.96\n",
      "Epoch [2/5], Step[300/1549], Loss: 4.6926, Perplexity: 109.14\n",
      "Epoch [2/5], Step[400/1549], Loss: 4.5889, Perplexity: 98.39\n",
      "Epoch [2/5], Step[500/1549], Loss: 4.1717, Perplexity: 64.83\n",
      "Epoch [2/5], Step[600/1549], Loss: 4.4435, Perplexity: 85.07\n",
      "Epoch [2/5], Step[700/1549], Loss: 4.3566, Perplexity: 77.99\n",
      "Epoch [2/5], Step[800/1549], Loss: 4.4743, Perplexity: 87.74\n",
      "Epoch [2/5], Step[900/1549], Loss: 4.1904, Perplexity: 66.05\n",
      "Epoch [2/5], Step[1000/1549], Loss: 4.3111, Perplexity: 74.52\n",
      "Epoch [2/5], Step[1100/1549], Loss: 4.5007, Perplexity: 90.08\n",
      "Epoch [2/5], Step[1200/1549], Loss: 4.4726, Perplexity: 87.59\n",
      "Epoch [2/5], Step[1300/1549], Loss: 4.2323, Perplexity: 68.87\n",
      "Epoch [2/5], Step[1400/1549], Loss: 3.9758, Perplexity: 53.29\n",
      "Epoch [2/5], Step[1500/1549], Loss: 4.2880, Perplexity: 72.82\n",
      "Epoch [3/5], Step[0/1549], Loss: 4.4900, Perplexity: 89.12\n",
      "Epoch [3/5], Step[100/1549], Loss: 3.8759, Perplexity: 48.23\n",
      "Epoch [3/5], Step[200/1549], Loss: 3.9835, Perplexity: 53.71\n",
      "Epoch [3/5], Step[300/1549], Loss: 4.0253, Perplexity: 56.00\n",
      "Epoch [3/5], Step[400/1549], Loss: 3.9153, Perplexity: 50.16\n",
      "Epoch [3/5], Step[500/1549], Loss: 3.4857, Perplexity: 32.65\n",
      "Epoch [3/5], Step[600/1549], Loss: 3.8432, Perplexity: 46.67\n",
      "Epoch [3/5], Step[700/1549], Loss: 3.6152, Perplexity: 37.16\n",
      "Epoch [3/5], Step[800/1549], Loss: 3.8658, Perplexity: 47.74\n",
      "Epoch [3/5], Step[900/1549], Loss: 3.5415, Perplexity: 34.52\n",
      "Epoch [3/5], Step[1000/1549], Loss: 3.6430, Perplexity: 38.21\n",
      "Epoch [3/5], Step[1100/1549], Loss: 3.8038, Perplexity: 44.87\n",
      "Epoch [3/5], Step[1200/1549], Loss: 3.8223, Perplexity: 45.71\n",
      "Epoch [3/5], Step[1300/1549], Loss: 3.5245, Perplexity: 33.94\n",
      "Epoch [3/5], Step[1400/1549], Loss: 3.2181, Perplexity: 24.98\n",
      "Epoch [3/5], Step[1500/1549], Loss: 3.5723, Perplexity: 35.60\n",
      "Epoch [4/5], Step[0/1549], Loss: 3.6014, Perplexity: 36.65\n",
      "Epoch [4/5], Step[100/1549], Loss: 3.2531, Perplexity: 25.87\n",
      "Epoch [4/5], Step[200/1549], Loss: 3.4444, Perplexity: 31.32\n",
      "Epoch [4/5], Step[300/1549], Loss: 3.4572, Perplexity: 31.73\n",
      "Epoch [4/5], Step[400/1549], Loss: 3.3966, Perplexity: 29.86\n",
      "Epoch [4/5], Step[500/1549], Loss: 2.9808, Perplexity: 19.70\n",
      "Epoch [4/5], Step[600/1549], Loss: 3.3984, Perplexity: 29.92\n",
      "Epoch [4/5], Step[700/1549], Loss: 3.1028, Perplexity: 22.26\n",
      "Epoch [4/5], Step[800/1549], Loss: 3.3789, Perplexity: 29.34\n",
      "Epoch [4/5], Step[900/1549], Loss: 2.9826, Perplexity: 19.74\n",
      "Epoch [4/5], Step[1000/1549], Loss: 3.1181, Perplexity: 22.60\n",
      "Epoch [4/5], Step[1100/1549], Loss: 3.2601, Perplexity: 26.05\n",
      "Epoch [4/5], Step[1200/1549], Loss: 3.3344, Perplexity: 28.06\n",
      "Epoch [4/5], Step[1300/1549], Loss: 3.0420, Perplexity: 20.95\n",
      "Epoch [4/5], Step[1400/1549], Loss: 2.7000, Perplexity: 14.88\n",
      "Epoch [4/5], Step[1500/1549], Loss: 3.0611, Perplexity: 21.35\n",
      "Epoch [5/5], Step[0/1549], Loss: 3.1105, Perplexity: 22.43\n",
      "Epoch [5/5], Step[100/1549], Loss: 2.9218, Perplexity: 18.57\n",
      "Epoch [5/5], Step[200/1549], Loss: 3.1043, Perplexity: 22.29\n",
      "Epoch [5/5], Step[300/1549], Loss: 3.1417, Perplexity: 23.14\n",
      "Epoch [5/5], Step[400/1549], Loss: 3.0528, Perplexity: 21.17\n",
      "Epoch [5/5], Step[500/1549], Loss: 2.6434, Perplexity: 14.06\n",
      "Epoch [5/5], Step[600/1549], Loss: 3.0058, Perplexity: 20.20\n",
      "Epoch [5/5], Step[700/1549], Loss: 2.8303, Perplexity: 16.95\n",
      "Epoch [5/5], Step[800/1549], Loss: 3.1450, Perplexity: 23.22\n",
      "Epoch [5/5], Step[900/1549], Loss: 2.7213, Perplexity: 15.20\n",
      "Epoch [5/5], Step[1000/1549], Loss: 2.8269, Perplexity: 16.89\n",
      "Epoch [5/5], Step[1100/1549], Loss: 2.8981, Perplexity: 18.14\n",
      "Epoch [5/5], Step[1200/1549], Loss: 2.9647, Perplexity: 19.39\n",
      "Epoch [5/5], Step[1300/1549], Loss: 2.7364, Perplexity: 15.43\n",
      "Epoch [5/5], Step[1400/1549], Loss: 2.4176, Perplexity: 11.22\n",
      "Epoch [5/5], Step[1500/1549], Loss: 2.8309, Perplexity: 16.96\n"
     ]
    }
   ],
   "source": [
    "# Train the model\n",
    "for epoch in range(num_epochs):\n",
    "    # Set initial hidden and cell states\n",
    "    states = (torch.zeros(num_layers, batch_size, hidden_size).to(device),\n",
    "              torch.zeros(num_layers, batch_size, hidden_size).to(device))\n",
    "    \n",
    "    for i in range(0, ids.size(1) - seq_length, seq_length):\n",
    "        # Get mini-batch inputs and targets\n",
    "        inputs = ids[:, i:i+seq_length].to(device)\n",
    "        targets = ids[:, (i+1):(i+1)+seq_length].to(device)\n",
    "        \n",
    "        # Forward pass\n",
    "        states = detach(states)\n",
    "        outputs, states = model(inputs, states)\n",
    "        loss = criterion(outputs, targets.reshape(-1))\n",
    "        \n",
    "        # Backward and optimize\n",
    "        optimizer.zero_grad()\n",
    "        loss.backward()\n",
    "        clip_grad_norm_(model.parameters(), 0.5)\n",
    "        optimizer.step()\n",
    "\n",
    "        step = (i+1) // seq_length\n",
    "        if step % 100 == 0:\n",
    "            print ('Epoch [{}/{}], Step[{}/{}], Loss: {:.4f}, Perplexity: {:5.2f}'\n",
    "                   .format(epoch+1, num_epochs, step, num_batches, loss.item(), np.exp(loss.item())))\n"
   ]
  },
  {
   "cell_type": "code",
   "execution_count": 11,
   "metadata": {},
   "outputs": [
    {
     "name": "stdout",
     "output_type": "stream",
     "text": [
      "Sampled [100/1000] words and save to sample.txt\n",
      "Sampled [200/1000] words and save to sample.txt\n",
      "Sampled [300/1000] words and save to sample.txt\n",
      "Sampled [400/1000] words and save to sample.txt\n",
      "Sampled [500/1000] words and save to sample.txt\n",
      "Sampled [600/1000] words and save to sample.txt\n",
      "Sampled [700/1000] words and save to sample.txt\n",
      "Sampled [800/1000] words and save to sample.txt\n",
      "Sampled [900/1000] words and save to sample.txt\n",
      "Sampled [1000/1000] words and save to sample.txt\n"
     ]
    }
   ],
   "source": [
    "# Test the model\n",
    "with torch.no_grad():\n",
    "    with open('sample.txt', 'w') as f:\n",
    "        # Set intial hidden ane cell states\n",
    "        state = (torch.zeros(num_layers, 1, hidden_size).to(device),\n",
    "                 torch.zeros(num_layers, 1, hidden_size).to(device))\n",
    "\n",
    "        # Select one word id randomly\n",
    "        prob = torch.ones(vocab_size)\n",
    "        input = torch.multinomial(prob, num_samples=1).unsqueeze(1).to(device)\n",
    "\n",
    "        for i in range(num_samples):\n",
    "            # Forward propagate RNN \n",
    "            output, state = model(input, state)\n",
    "\n",
    "            # Sample a word id\n",
    "            prob = output.exp()\n",
    "            word_id = torch.multinomial(prob, num_samples=1).item()\n",
    "\n",
    "            # Fill input with sampled word id for the next time step\n",
    "            input.fill_(word_id)\n",
    "\n",
    "            # File write\n",
    "            word = corpus.dictionary.idx2word[word_id]\n",
    "            word = '\\n' if word == '<eos>' else word + ' '\n",
    "            f.write(word)\n",
    "\n",
    "            if (i+1) % 100 == 0:\n",
    "                print('Sampled [{}/{}] words and save to {}'.format(i+1, num_samples, 'sample.txt'))\n"
   ]
  },
  {
   "cell_type": "code",
   "execution_count": 12,
   "metadata": {},
   "outputs": [],
   "source": [
    "# Save the model checkpoints\n",
    "torch.save(model.state_dict(), 'model_lm.ckpt')"
   ]
  },
  {
   "cell_type": "code",
   "execution_count": null,
   "metadata": {},
   "outputs": [],
   "source": []
  }
 ],
 "metadata": {
  "kernelspec": {
   "display_name": "Python 3",
   "language": "python",
   "name": "python3"
  },
  "language_info": {
   "codemirror_mode": {
    "name": "ipython",
    "version": 3
   },
   "file_extension": ".py",
   "mimetype": "text/x-python",
   "name": "python",
   "nbconvert_exporter": "python",
   "pygments_lexer": "ipython3",
   "version": "3.9.2"
  }
 },
 "nbformat": 4,
 "nbformat_minor": 2
}
